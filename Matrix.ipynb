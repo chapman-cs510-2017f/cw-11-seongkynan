{
 "cells": [
  {
   "cell_type": "markdown",
   "metadata": {
    "collapsed": false
   },
   "source": [
    "#### 1. describe how the MATRIX type is defined and how it works in detail. Explain in particular the difference between \"row-major ordering\" and \"column-major ordering\" for multidimensional arrays, and indicate which is the default convention in C. (Is it the same convention as in Python?)\n",
    "The Matrix type is defined with three attributes, rows, cols, and \\*mat. Rows and cols are unsigned integer type. And \\*mat is long double type. The Matrix type has no definite implementation of an array yet, until it is created by new_matrix and mset functions. The function new_matrix allocates memory spaces with `(MVALUE *)calloc(rows * cols, sizeof(MVALUE))`. This means to multiply the number of all elements (rows * cols) by a size of MVALUE type(long double). The mset function fills an actual value to each memeory location using row-major ordering method. The row-major ordering is a way to store a multi-demensional array in a linear storage with rows in contiguous memory, while column-major ordering does the same with colums in contiguous memory. C and Python are both based on the row-major ordering."
   ]
  },
  {
   "cell_type": "markdown",
   "metadata": {
    "collapsed": false
   },
   "source": [
    "#### 2. Explain how you could force C to use the non-default array ordering if desired.\n",
    "Find the pointer to the maxtrix and array the multi-demensional array with columns in contiguous memory. \n",
    "```c\n",
    "m.mat + (m.rows * col) + row = v\n",
    "```"
   ]
  },
  {
   "cell_type": "markdown",
   "metadata": {
    "collapsed": false
   },
   "source": [
    "#### 3. Make sure that test_matrix in the test/ folder compiles and runs correctly after you are finished implementing MATRIX."
   ]
  },
  {
   "cell_type": "code",
   "execution_count": 1,
   "metadata": {
    "collapsed": false
   },
   "outputs": [
    {
     "name": "stdout",
     "output_type": "stream",
     "text": [
      "Initial matrix:\n"
     ]
    },
    {
     "name": "stdout",
     "output_type": "stream",
     "text": [
      "Matrix (rows: 3, cols: 6) \n"
     ]
    },
    {
     "name": "stdout",
     "output_type": "stream",
     "text": [
      "0.000000\t0.000000\t0.000000\t0.000000\t0.000000\t0.000000\t\n"
     ]
    },
    {
     "name": "stdout",
     "output_type": "stream",
     "text": [
      "0.000000\t0.000000\t0.000000\t0.000000\t0.000000\tnan\t\n"
     ]
    },
    {
     "name": "stdout",
     "output_type": "stream",
     "text": [
      "nan\tnan\tnan\t0.000000\t0.000000\t0.000000\t\n"
     ]
    },
    {
     "name": "stdout",
     "output_type": "stream",
     "text": [
      "Modified matrix:\n"
     ]
    },
    {
     "name": "stdout",
     "output_type": "stream",
     "text": [
      "ERROR: Indexing matrix outside bounds\n"
     ]
    },
    {
     "name": "stdout",
     "output_type": "stream",
     "text": [
      "Matrix (rows: 3, cols: 6) \n"
     ]
    },
    {
     "name": "stdout",
     "output_type": "stream",
     "text": [
      "30.000000\t0.000000\t0.000000\t0.000000\t0.000000\t0.000000\t\n"
     ]
    },
    {
     "name": "stdout",
     "output_type": "stream",
     "text": [
      "0.000000\t40.000000\t0.000000\t0.000000\t80.000000\tnan\t\n"
     ]
    },
    {
     "name": "stdout",
     "output_type": "stream",
     "text": [
      "nan\tnan\tnan\t0.000000\t0.000000\t0.000000\t\n"
     ]
    },
    {
     "name": "stdout",
     "output_type": "stream",
     "text": [
      "Element a(2,2):\n"
     ]
    },
    {
     "name": "stdout",
     "output_type": "stream",
     "text": [
      "40.000000\n"
     ]
    },
    {
     "name": "stdout",
     "output_type": "stream",
     "text": [
      "Element a(0,4):\n"
     ]
    },
    {
     "name": "stdout",
     "output_type": "stream",
     "text": [
      "60.000000\n"
     ]
    },
    {
     "name": "stdout",
     "output_type": "stream",
     "text": [
      "Adding a to itself:\n"
     ]
    },
    {
     "name": "stdout",
     "output_type": "stream",
     "text": [
      "ERROR: Indexing matrix outside bounds\n"
     ]
    },
    {
     "name": "stdout",
     "output_type": "stream",
     "text": [
      "ERROR: Indexing matrix outside bounds\n"
     ]
    },
    {
     "name": "stdout",
     "output_type": "stream",
     "text": [
      "ERROR: Indexing matrix outside bounds\n"
     ]
    },
    {
     "name": "stdout",
     "output_type": "stream",
     "text": [
      "ERROR: Indexing matrix outside bounds\n"
     ]
    },
    {
     "name": "stdout",
     "output_type": "stream",
     "text": [
      "ERROR: Indexing matrix outside bounds\n"
     ]
    },
    {
     "name": "stdout",
     "output_type": "stream",
     "text": [
      "ERROR: Indexing matrix outside bounds\n"
     ]
    },
    {
     "name": "stdout",
     "output_type": "stream",
     "text": [
      "ERROR: Indexing matrix outside bounds\n"
     ]
    },
    {
     "name": "stdout",
     "output_type": "stream",
     "text": [
      "ERROR: Indexing matrix outside bounds\n"
     ]
    },
    {
     "name": "stdout",
     "output_type": "stream",
     "text": [
      "Matrix (rows: 3, cols: 6) \n"
     ]
    },
    {
     "name": "stdout",
     "output_type": "stream",
     "text": [
      "60.000000\t0.000000\t0.000000\t0.000000\t0.000000\t0.000000\t\n"
     ]
    },
    {
     "name": "stdout",
     "output_type": "stream",
     "text": [
      "0.000000\t80.000000\t0.000000\t0.000000\t160.000000\tnan\t\n"
     ]
    },
    {
     "name": "stdout",
     "output_type": "stream",
     "text": [
      "0.000000\t0.000000\t0.000000\t0.000000\t0.000000\t0.000000\t\n"
     ]
    }
   ],
   "source": [
    "./test/test_matrix"
   ]
  },
  {
   "cell_type": "code",
   "execution_count": 0,
   "metadata": {
    "collapsed": false
   },
   "outputs": [
   ],
   "source": [
   ]
  }
 ],
 "metadata": {
  "kernelspec": {
   "display_name": "Bash (Linux)",
   "language": "bash",
   "name": "bash"
  },
  "language_info": {
   "codemirror_mode": "shell",
   "file_extension": ".sh",
   "mimetype": "text/x-sh",
   "name": "bash"
  }
 },
 "nbformat": 4,
 "nbformat_minor": 0
}